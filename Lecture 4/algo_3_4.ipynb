{
 "cells": [
  {
   "cell_type": "code",
   "execution_count": 1,
   "id": "d9911fe2",
   "metadata": {},
   "outputs": [],
   "source": [
    "import numpy as np"
   ]
  },
  {
   "cell_type": "code",
   "execution_count": 2,
   "id": "8b796a9d",
   "metadata": {},
   "outputs": [],
   "source": [
    "# -----------------------------\n",
    "# Algorithm 3: Fisher–Yates Shuffle\n",
    "# -----------------------------\n",
    "def fisher_yates_shuffle(n, show_steps=True):\n",
    "    \"\"\"\n",
    "    Generate a random permutation of 1,...,n and print each swap.\n",
    "    \n",
    "    Parameters:\n",
    "        n : int\n",
    "            Size of the permutation\n",
    "        show_steps : bool\n",
    "            If True, print the swaps\n",
    "    \n",
    "    Returns:\n",
    "        perm : np.array\n",
    "            A uniformly random permutation of 1,...,n\n",
    "    \"\"\"\n",
    "    # Initialize array with 1,...,n\n",
    "    perm = np.arange(1, n+1)\n",
    "    \n",
    "    print(\"Initial array:\", perm)\n",
    "    \n",
    "    # Loop from last position down to 2\n",
    "    for k in range(n, 1, -1):\n",
    "        # Generate random index from 0 to k-1\n",
    "        U = np.random.uniform(0, 1)\n",
    "        I = int(k * U)  # 0-indexed\n",
    "        \n",
    "        # Print swap details\n",
    "        if show_steps:\n",
    "            print(f\"Swap index {I} (value {perm[I]}) with index {k-1} (value {perm[k-1]})\")\n",
    "        \n",
    "        # Swap elements\n",
    "        perm[I], perm[k-1] = perm[k-1], perm[I]\n",
    "    \n",
    "    return perm"
   ]
  },
  {
   "cell_type": "code",
   "execution_count": 3,
   "id": "1d71b3f8",
   "metadata": {},
   "outputs": [
    {
     "name": "stdout",
     "output_type": "stream",
     "text": [
      "Initial array: [ 1  2  3  4  5  6  7  8  9 10]\n",
      "Swap index 3 (value 4) with index 9 (value 10)\n",
      "Swap index 8 (value 9) with index 8 (value 9)\n",
      "Swap index 5 (value 6) with index 7 (value 8)\n",
      "Swap index 4 (value 5) with index 6 (value 7)\n",
      "Swap index 0 (value 1) with index 5 (value 8)\n",
      "Swap index 0 (value 8) with index 4 (value 7)\n",
      "Swap index 0 (value 7) with index 3 (value 10)\n",
      "Swap index 2 (value 3) with index 2 (value 3)\n",
      "Swap index 1 (value 2) with index 1 (value 2)\n",
      "Final Permutation: [10  2  3  7  8  1  5  6  9  4]\n"
     ]
    }
   ],
   "source": [
    "np.random.seed(42)\n",
    "perm_sample = fisher_yates_shuffle(n=10, show_steps=True)\n",
    "print(\"Final Permutation:\", perm_sample)"
   ]
  },
  {
   "cell_type": "code",
   "execution_count": 4,
   "id": "c2b78a75",
   "metadata": {},
   "outputs": [],
   "source": [
    "# -----------------------------\n",
    "# Algorithm 4: Random Subset using Fisher–Yates Partial Shuffle\n",
    "# -----------------------------\n",
    "def random_subset_fisher_yates(n, r, show_steps=False):\n",
    "    \"\"\"\n",
    "    Generate a random subset of size r from {1,...,n} using Fisher–Yates partial shuffle.\n",
    "    \n",
    "    Parameters:\n",
    "        n : int\n",
    "            Population size\n",
    "        r : int\n",
    "            Desired subset size\n",
    "        show_steps : bool\n",
    "            If True, print the swaps made during the partial shuffle.\n",
    "    \n",
    "    Returns:\n",
    "        subset : list\n",
    "            Random subset of size r\n",
    "    \"\"\"\n",
    "    # If r is larger than half, generate the complement subset\n",
    "    complement = False\n",
    "    if r > n // 2:\n",
    "        r = n - r\n",
    "        complement = True\n",
    "    \n",
    "    # Initialize array with 1,...,n\n",
    "    P = np.arange(1, n+1)\n",
    "    \n",
    "    # Partial shuffle only: shuffle the last r positions\n",
    "    for k in range(n, n-r, -1):\n",
    "        U = np.random.uniform(0,1)\n",
    "        I = int(k * U)  # 0-indexed\n",
    "        \n",
    "        if show_steps:\n",
    "            print(f\"Swap index {I} (value {P[I]}) with index {k-1} (value {P[k-1]})\")\n",
    "        \n",
    "        # Swap elements\n",
    "        if I != k-1:\n",
    "            P[I], P[k-1] = P[k-1], P[I]\n",
    "    \n",
    "    # Take last r elements as the subset\n",
    "    subset = P[-r:] if not complement else np.setdiff1d(np.arange(1, n+1), P[-r:])\n",
    "    \n",
    "    return subset.tolist()"
   ]
  },
  {
   "cell_type": "code",
   "execution_count": 5,
   "id": "87806447",
   "metadata": {},
   "outputs": [
    {
     "name": "stdout",
     "output_type": "stream",
     "text": [
      "Swap index 37 (value 38) with index 99 (value 100)\n",
      "Swap index 94 (value 95) with index 98 (value 99)\n",
      "Swap index 71 (value 72) with index 97 (value 98)\n",
      "Swap index 58 (value 59) with index 96 (value 97)\n",
      "Swap index 14 (value 15) with index 95 (value 96)\n",
      "Swap index 14 (value 96) with index 94 (value 99)\n",
      "Swap index 5 (value 6) with index 93 (value 94)\n",
      "Swap index 80 (value 81) with index 92 (value 93)\n",
      "Swap index 55 (value 56) with index 91 (value 92)\n",
      "Swap index 64 (value 65) with index 90 (value 91)\n",
      "Random subset: [65, 56, 81, 6, 96, 15, 59, 72, 95, 38]\n"
     ]
    }
   ],
   "source": [
    "np.random.seed(42)\n",
    "subset_example = random_subset_fisher_yates(n=100, r=10, show_steps=True)\n",
    "print(\"Random subset:\", subset_example)"
   ]
  }
 ],
 "metadata": {
  "kernelspec": {
   "display_name": "base",
   "language": "python",
   "name": "python3"
  },
  "language_info": {
   "codemirror_mode": {
    "name": "ipython",
    "version": 3
   },
   "file_extension": ".py",
   "mimetype": "text/x-python",
   "name": "python",
   "nbconvert_exporter": "python",
   "pygments_lexer": "ipython3",
   "version": "3.13.5"
  }
 },
 "nbformat": 4,
 "nbformat_minor": 5
}
